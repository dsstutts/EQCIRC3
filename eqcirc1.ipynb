{
 "cells": [
  {
   "cell_type": "markdown",
   "metadata": {},
   "source": [
    "# Eqcirc1.py"
   ]
  },
  {
   "cell_type": "code",
   "execution_count": 2,
   "metadata": {
    "collapsed": false
   },
   "outputs": [
    {
     "name": "stdout",
     "output_type": "stream",
     "text": [
      "README.md            eqcirc1.ipynb        eqcirc1.py           sampleadmittance.txt\r\n"
     ]
    }
   ],
   "source": [
    "!ls"
   ]
  },
  {
   "cell_type": "markdown",
   "metadata": {},
   "source": [
    "Here's the program:"
   ]
  },
  {
   "cell_type": "code",
   "execution_count": null,
   "metadata": {
    "collapsed": true
   },
   "outputs": [],
   "source": [
    "# --\n",
    "# File: eqcirc1.py\n",
    "# Equivalent Circuit Parameter Estimator for Piezoelectric Structures\n",
    "# Author: D. S. Stutts\n",
    "# Associate Professor of Mechanical Engineering\n",
    "# 282 Toomey Hall\n",
    "# 400 W. 13th St.\n",
    "# Rolla, MO 65409-0050\n",
    "# Email: stutts@mst.edu\n",
    "# Original release: Version 0.1.0 3-29-2015\n",
    "####################--\n",
    "\"\"\"\n",
    "This program calculates the equivalent \n",
    "circuit parameters from frequency-admittance \n",
    "magnitude data stored in the standard\n",
    "HP4294A Impedance Analyser output data\n",
    "format.\n",
    "\n",
    "An image of the equivalent circuit may be\n",
    "found here:\n",
    "http://web.mst.edu/~stutts/piezoequivcircuit0.png\n",
    "\n",
    "The program first calculates the approximate\n",
    "equivalent circuit parameters for a single\n",
    "resonance-antiresonance frequency pair.\n",
    "It then uses the Levenberg-Marquardt (LM)\n",
    "nonlinear least squares algorithm to\n",
    "optimize the model in the least squares\n",
    "sense.  The LM algorithm is invoked\n",
    "via a call to leastsq(rez, z0, args=(yy, xx),\n",
    "full_output=1) from the scipy.optimize library.\n",
    "\n",
    "See: http://docs.scipy.org/doc/scipy-0.14.0/\n",
    "reference/generated/scipy.optimize.leastsq.html\n",
    "for more information.\n",
    "\n",
    "eqcirc2.py calculates the following outputs stdout: \n",
    "\n",
    "(1) fr (the resonance frequency)\n",
    "(2) fa (the anti-resonance frequency)\n",
    "(3) C0 (the parallel capacitance)\n",
    "(4) R1 (the motional resistance)\n",
    "(5) L1 (the motional inductance)\n",
    "(6) C1 (the motional capacitance)\n",
    "(7) Q (the series R1L1C1 resonance \n",
    "       quality factor = 1/2zeta)\n",
    "\n",
    "A graph of the data and model is also produced.\n",
    "\n",
    "Example call: python eqcirc1.py inputdatafile.txt\n",
    "\n",
    "The graph may be saved in PNG format, and the text\n",
    "may be redirected from stdout to a file like so:\n",
    "\n",
    "python eqcirc1.py inputdatafile.txt > outdata.txt\n",
    "\n",
    " # This code is copyrighted by the author, but released under the MIT\n",
    " # license:\n",
    "\n",
    "Copyright (c) 2015 eqcirc1.py \n",
    "\n",
    "S&T and the University of Missouri Board of Curators \n",
    "license to you the right to use, modify, copy, and distribute this \n",
    "code subject to the MIT license:\n",
    "\n",
    "Permission is hereby granted, free of charge, to any person obtaining a copy\n",
    "of this software and associated documentation files (the \"Software\"), to deal\n",
    "in the Software without restriction, including without limitation the rights\n",
    "to use, copy, modify, merge, publish, distribute, sublicense, and/or sell\n",
    "copies of the Software, and to permit persons to whom the Software is\n",
    "furnished to do so, subject to the following conditions:\n",
    "\n",
    "The above copyright notice and this permission notice shall be included \n",
    "in all copies or substantial portions of the Software. \n",
    "\n",
    "THE SOFTWARE IS PROVIDED \"AS IS\", WITHOUT WARRANTY OF ANY KIND, EXPRESS OR\n",
    "IMPLIED, INCLUDING BUT NOT LIMITED TO THE WARRANTIES OF MERCHANTABILITY,\n",
    "FITNESS FOR A PARTICULAR PURPOSE AND NONINFRINGEMENT. IN NO EVENT SHALL \n",
    "THE AUTHORS OR COPYRIGHT HOLDERS BE LIABLE FOR ANY CLAIM, DAMAGES OR OTHER\n",
    "LIABILITY, WHETHER IN AN ACTION OF CONTRACT, TORT OR OTHERWISE, ARISING \n",
    "FROM, OUT OF OR IN CONNECTION WITH THE SOFTWARE OR THE USE OR OTHER \n",
    "DEALINGS IN THE SOFTWARE.\n",
    "\n",
    "The author kindly requests that any publications benefitting from the use\n",
    "of this software include the following citation: \n",
    "\n",
    "@Misc{eqcirc1_2015,\n",
    "author =   {Stutts, D. S.},\n",
    "title = {{eqcirc1.py}: {Equivalent Circuit Parameter Estimator \n",
    "for Piezoelectric Structures.}},\n",
    "howpublished = {\\url{https://github.com/MSTESG/EQCIRC1.git}},\n",
    "year = {2015}}\n",
    "\n",
    "\"\"\"\n",
    "\n",
    "\n",
    "from pylab import *\n",
    "from scipy.optimize import leastsq\n",
    "# Initialize some lists:\n",
    "ydat = []\n",
    "x = []\n",
    "xx = []\n",
    "yy = []\n",
    "# Define functions:\n",
    "def y(f, z):  # Admittance model\n",
    "    return 0.2e1 * np.pi * f * np.sqrt(0.4e1 * z[0] ** 2*z[3]**2*\n",
    "    z[1] ** 2 * np.pi ** 2 * f ** 2 + (\n",
    "    -0.4e1 * z[0] * z[3] * z[2] * np.pi ** 2 * f ** 2\n",
    "    + z[0]+z[3])**2)*((-0.4e1 * z[3]*z[2]*np.pi ** 2*f**2+0.1e1)**2\n",
    "    + 0.4e1*z[1]**2*z[3]**2*np.pi**2*f**2)**(-0.1e1/0.2e1)\n",
    "\n",
    "\n",
    "def C0_i(Ymin, Ymax, fr, fa):  # Parallel capacitance estimate\n",
    "    return np.sqrt(0.2e1*(fa ** 2 - fr**2)*Ymin**2/np.pi**2/fa**4\n",
    "    + 0.2e1*np.sqrt((fa ** 2 - f ** 2)**2/np.pi**4/fa**8*Ymin**4\n",
    "    + 0.4e1*Ymin**2*Ymax**2/np.pi**4/fa**4))/0.4e1\n",
    "\n",
    "\n",
    "def R1_i(Ymin, Ymax, fr, fa, C0):  # Motional resistance estimate\n",
    "    return (-0.4e1*np.pi**2*fr**2*C0**2+Ymax**2)**(-0.1e1/0.2e1)\n",
    "\n",
    "\n",
    "def L1_i(fr, fa, C0):  # Motional inductance estimate\n",
    "    return 0.1e1 / np.pi ** 2 / (fa ** 2 - fr ** 2) / C0 / 0.4e1\n",
    "\n",
    "\n",
    "def C1_i(fr, fa, C0):  # Motional capacitance estimate\n",
    "    return (fa ** 2 / fr ** 2 - 1) * C0\n",
    "\n",
    "\n",
    "def rez(z, ydat, f):  # Residual function\n",
    "    return ydat - y(f, z)\n",
    "\n",
    "# Input data file on command line:\t\n",
    "infile = sys.argv[1]\n",
    "data = open(infile, \"r\")  # get array out of input file\n",
    "numline = 0\n",
    "  # read the 21st through 821 lines from the data file\n",
    "  # and fill x,y lists with floating point numbers:\n",
    "for line in data:\n",
    "    if numline > 20 and numline < 822:\n",
    "        x.append(map(float, (line[0:31]).split())[0])\n",
    "        ydat.append(map(float, (line[0:31]).split())[1])\n",
    "    numline += 1\n",
    "xx = array(x)\n",
    "yy = array(ydat)\n",
    "\n",
    "# Locate Ymax, fr, Ymin, and fa:\n",
    "f = 0\n",
    "Ymax = 0\n",
    "imax = len(x)\n",
    "kmax = 0\n",
    "for k in range(imax):\n",
    "    if ydat[k] > ydat[kmax]:\n",
    "        kmax = k\n",
    "\n",
    "Ymax = ydat[kmax]\n",
    "fr = x[kmax]\n",
    "\n",
    "kmin = kmax\n",
    "\n",
    "for k in xrange(kmin, imax):\n",
    "    if ydat[k] < ydat[kmin]:\n",
    "        kmin = k\n",
    "\n",
    "Ymin = ydat[kmin]\n",
    "fa = x[kmin]\n",
    "\n",
    "print \"Ymax = \", Ymax, \" at fr = \", fr, \"\\n\"\n",
    "print \"Ymin = \", Ymin, \" at fa = \", fa, \"\\n\"\n",
    "\n",
    "# Estimate initial parameter values:\n",
    "\n",
    "C0i = C0_i(Ymin, Ymax, fr, fa)\n",
    "R1i = R1_i(Ymin, Ymax, fr, fa, C0_i(Ymin, Ymax, fr, fa))\n",
    "L1i = L1_i(fr, fa, C0_i(Ymin, Ymax, fr, fa))\n",
    "C1i = C1_i(fr, fa, C0_i(Ymin, Ymax, fr, fa))\n",
    "\"\"\"\n",
    "# Print the initial values: (uncomment if you want \n",
    "# to see the approximate values)\n",
    "print \"fr = \", fr,\"\\n\"\n",
    "print \"fa = \", fa,\"\\n\"\n",
    "print \"C0i = \", C0i,\"\\n\"\n",
    "print \"R1i = \", R1i,\"\\n\"\n",
    "print \"L1i = \", L1i,\"\\n\"\n",
    "print \"C1i = \", C1i,\"\\n\"\n",
    "Qi = 1/(R1i*np.sqrt(C1i/L1i))\n",
    "print \"Qi = \", Qi,\"\\n\"\n",
    "\"\"\"\n",
    "# Create initial guess array:\n",
    "z0 = [C0i, R1i, L1i, C1i]\n",
    "\n",
    "# Find the best values:\n",
    "output = leastsq(rez, z0, args=(yy, xx), full_output=1)\n",
    "\n",
    "C0 = output[0][0]\n",
    "R1 = output[0][1]\n",
    "L1 = output[0][2]\n",
    "C1 = output[0][3]\n",
    "Q = 1 / (R1 * np.sqrt(C1 / L1))\n",
    "fr = 1 / np.sqrt(L1 * C1) / 0.2e1 / np.pi\n",
    "fa = np.sqrt((C0 + C1) / C0 / C1 / L1) / np.pi / 0.2e1\n",
    "\n",
    "# Print the results:\n",
    "print \"fr = \", fr, \"\\n\"\n",
    "print \"fa = \", fa, \"\\n\"\n",
    "print \"C0 = \", C0, \"\\n\"\n",
    "print \"R1 = \", R1, \"\\n\"\n",
    "print \"L1 = \", L1, \"\\n\"\n",
    "print \"C1 = \", C1, \"\\n\"\n",
    "print \"Q = \", Q, \"\\n\"\n",
    "\n",
    "# Put the optimal values in an array:\n",
    "coeffs = [C0, R1, L1, C1]\n",
    "\n",
    "# Plot the model and the data:\n",
    "plt.plot(xx, y(xx, coeffs), 'r-', label='model')\n",
    "plt.plot(xx, ydat, 'go', label='data')\n",
    "legend = plt.legend(loc='upper right', shadow=True, fontsize='large')\n",
    "xlabel('f (Hz)')\n",
    "ylabel('Y (A/V)')\n",
    "grid(True)\n",
    "# Put a nice background color on the legend:\n",
    "legend.get_frame().set_facecolor('#00FFCC')\n",
    "plt.show()"
   ]
  },
  {
   "cell_type": "markdown",
   "metadata": {},
   "source": [
    "Here's a list of the so-called magic commands:"
   ]
  },
  {
   "cell_type": "code",
   "execution_count": 1,
   "metadata": {
    "collapsed": false
   },
   "outputs": [
    {
     "data": {
      "application/json": {
       "cell": {
        "!": "OSMagics",
        "HTML": "Other",
        "SVG": "Other",
        "bash": "Other",
        "capture": "ExecutionMagics",
        "debug": "ExecutionMagics",
        "file": "Other",
        "html": "DisplayMagics",
        "javascript": "DisplayMagics",
        "latex": "DisplayMagics",
        "perl": "Other",
        "prun": "ExecutionMagics",
        "pypy": "Other",
        "python": "Other",
        "python2": "Other",
        "python3": "Other",
        "ruby": "Other",
        "script": "ScriptMagics",
        "sh": "Other",
        "svg": "DisplayMagics",
        "sx": "OSMagics",
        "system": "OSMagics",
        "time": "ExecutionMagics",
        "timeit": "ExecutionMagics",
        "writefile": "OSMagics"
       },
       "line": {
        "alias": "OSMagics",
        "alias_magic": "BasicMagics",
        "autocall": "AutoMagics",
        "automagic": "AutoMagics",
        "autosave": "KernelMagics",
        "bookmark": "OSMagics",
        "cat": "Other",
        "cd": "OSMagics",
        "clear": "KernelMagics",
        "colors": "BasicMagics",
        "config": "ConfigMagics",
        "connect_info": "KernelMagics",
        "cp": "Other",
        "debug": "ExecutionMagics",
        "dhist": "OSMagics",
        "dirs": "OSMagics",
        "doctest_mode": "BasicMagics",
        "ed": "Other",
        "edit": "KernelMagics",
        "env": "OSMagics",
        "gui": "BasicMagics",
        "hist": "Other",
        "history": "HistoryMagics",
        "install_default_config": "DeprecatedMagics",
        "install_ext": "ExtensionMagics",
        "install_profiles": "DeprecatedMagics",
        "killbgscripts": "ScriptMagics",
        "ldir": "Other",
        "less": "KernelMagics",
        "lf": "Other",
        "lk": "Other",
        "ll": "Other",
        "load": "CodeMagics",
        "load_ext": "ExtensionMagics",
        "loadpy": "CodeMagics",
        "logoff": "LoggingMagics",
        "logon": "LoggingMagics",
        "logstart": "LoggingMagics",
        "logstate": "LoggingMagics",
        "logstop": "LoggingMagics",
        "ls": "Other",
        "lsmagic": "BasicMagics",
        "lx": "Other",
        "macro": "ExecutionMagics",
        "magic": "BasicMagics",
        "man": "KernelMagics",
        "matplotlib": "PylabMagics",
        "mkdir": "Other",
        "more": "KernelMagics",
        "mv": "Other",
        "notebook": "BasicMagics",
        "page": "BasicMagics",
        "pastebin": "CodeMagics",
        "pdb": "ExecutionMagics",
        "pdef": "NamespaceMagics",
        "pdoc": "NamespaceMagics",
        "pfile": "NamespaceMagics",
        "pinfo": "NamespaceMagics",
        "pinfo2": "NamespaceMagics",
        "popd": "OSMagics",
        "pprint": "BasicMagics",
        "precision": "BasicMagics",
        "profile": "BasicMagics",
        "prun": "ExecutionMagics",
        "psearch": "NamespaceMagics",
        "psource": "NamespaceMagics",
        "pushd": "OSMagics",
        "pwd": "OSMagics",
        "pycat": "OSMagics",
        "pylab": "PylabMagics",
        "qtconsole": "KernelMagics",
        "quickref": "BasicMagics",
        "recall": "HistoryMagics",
        "rehashx": "OSMagics",
        "reload_ext": "ExtensionMagics",
        "rep": "Other",
        "rerun": "HistoryMagics",
        "reset": "NamespaceMagics",
        "reset_selective": "NamespaceMagics",
        "rm": "Other",
        "rmdir": "Other",
        "run": "ExecutionMagics",
        "save": "CodeMagics",
        "sc": "OSMagics",
        "set_env": "OSMagics",
        "store": "StoreMagics",
        "sx": "OSMagics",
        "system": "OSMagics",
        "tb": "ExecutionMagics",
        "time": "ExecutionMagics",
        "timeit": "ExecutionMagics",
        "unalias": "OSMagics",
        "unload_ext": "ExtensionMagics",
        "who": "NamespaceMagics",
        "who_ls": "NamespaceMagics",
        "whos": "NamespaceMagics",
        "xdel": "NamespaceMagics",
        "xmode": "BasicMagics"
       }
      },
      "text/plain": [
       "Available line magics:\n",
       "%alias  %alias_magic  %autocall  %automagic  %autosave  %bookmark  %cat  %cd  %clear  %colors  %config  %connect_info  %cp  %debug  %dhist  %dirs  %doctest_mode  %ed  %edit  %env  %gui  %hist  %history  %install_default_config  %install_ext  %install_profiles  %killbgscripts  %ldir  %less  %lf  %lk  %ll  %load  %load_ext  %loadpy  %logoff  %logon  %logstart  %logstate  %logstop  %ls  %lsmagic  %lx  %macro  %magic  %man  %matplotlib  %mkdir  %more  %mv  %notebook  %page  %pastebin  %pdb  %pdef  %pdoc  %pfile  %pinfo  %pinfo2  %popd  %pprint  %precision  %profile  %prun  %psearch  %psource  %pushd  %pwd  %pycat  %pylab  %qtconsole  %quickref  %recall  %rehashx  %reload_ext  %rep  %rerun  %reset  %reset_selective  %rm  %rmdir  %run  %save  %sc  %set_env  %store  %sx  %system  %tb  %time  %timeit  %unalias  %unload_ext  %who  %who_ls  %whos  %xdel  %xmode\n",
       "\n",
       "Available cell magics:\n",
       "%%!  %%HTML  %%SVG  %%bash  %%capture  %%debug  %%file  %%html  %%javascript  %%latex  %%perl  %%prun  %%pypy  %%python  %%python2  %%python3  %%ruby  %%script  %%sh  %%svg  %%sx  %%system  %%time  %%timeit  %%writefile\n",
       "\n",
       "Automagic is ON, % prefix IS NOT needed for line magics."
      ]
     },
     "execution_count": 1,
     "metadata": {},
     "output_type": "execute_result"
    }
   ],
   "source": [
    "%lsmagic"
   ]
  },
  {
   "cell_type": "code",
   "execution_count": 2,
   "metadata": {
    "collapsed": false
   },
   "outputs": [
    {
     "name": "stdout",
     "output_type": "stream",
     "text": [
      "README.md             eqcirc1.ipynb         eqcirc1.py            sampleadmittance.txt\r\n"
     ]
    }
   ],
   "source": [
    "ls"
   ]
  },
  {
   "cell_type": "markdown",
   "metadata": {},
   "source": [
    "Let's run eqcirc1.py:"
   ]
  },
  {
   "cell_type": "code",
   "execution_count": 4,
   "metadata": {
    "collapsed": false
   },
   "outputs": [
    {
     "name": "stdout",
     "output_type": "stream",
     "text": [
      "Ymax =  0.00961523  at fr =  112679.322 \n",
      "\n",
      "Ymin =  0.0002012571  at fa =  114242.119 \n",
      "\n",
      "fr =  112719.998047 \n",
      "\n",
      "fa =  114099.640027 \n",
      "\n",
      "C0 =  1.53668657292e-09 \n",
      "\n",
      "R1 =  106.327684938 \n",
      "\n",
      "L1 =  0.0526754085687 \n",
      "\n",
      "C1 =  3.78469080709e-11 \n",
      "\n",
      "Q =  350.866896655 \n",
      "\n"
     ]
    }
   ],
   "source": [
    "run eqcirc1.py sampleadmittance.txt"
   ]
  },
  {
   "cell_type": "markdown",
   "metadata": {},
   "source": [
    "The above are the least squares model parameters returned.  If we want the plot to persist in this notebook,\n",
    "we'll have to save it, and the import it.  First, we need to load the following modules:"
   ]
  },
  {
   "cell_type": "code",
   "execution_count": 5,
   "metadata": {
    "collapsed": true
   },
   "outputs": [],
   "source": [
    "from IPython.display import display"
   ]
  },
  {
   "cell_type": "code",
   "execution_count": 6,
   "metadata": {
    "collapsed": true
   },
   "outputs": [],
   "source": [
    "from IPython.display import Image"
   ]
  },
  {
   "cell_type": "code",
   "execution_count": 7,
   "metadata": {
    "collapsed": false
   },
   "outputs": [
    {
     "data": {
      "image/png": "[encoded data removed]",
      "text/plain": [
       "<IPython.core.display.Image object>"
      ]
     },
     "execution_count": 7,
     "metadata": {},
     "output_type": "execute_result"
    }
   ],
   "source": [
    "Image(filename='admittance.png')"
   ]
  },
  {
   "cell_type": "markdown",
   "metadata": {},
   "source": [
    "Looks like a pretty good fit!\n",
    "\n",
    "Here's the equivalent circuit we're estimating the parameters of:"
   ]
  },
  {
   "cell_type": "code",
   "execution_count": 9,
   "metadata": {
    "collapsed": false
   },
   "outputs": [
    {
     "data": {
      "image/png": "[encoded data removed]",
      "text/plain": [
       "<IPython.core.display.Image object>"
      ]
     },
     "execution_count": 9,
     "metadata": {},
     "output_type": "execute_result"
    }
   ],
   "source": [
    "Image(filename='PZTEqCircuit2.png')"
   ]
  },
  {
   "cell_type": "markdown",
   "metadata": {},
   "source": [
    "Oh, and here's the admittance magnitude model:"
   ]
  },
  {
   "cell_type": "code",
   "execution_count": 19,
   "metadata": {
    "collapsed": false
   },
   "outputs": [],
   "source": [
    "from IPython.display import Latex"
   ]
  },
  {
   "cell_type": "code",
   "execution_count": 20,
   "metadata": {
    "collapsed": false
   },
   "outputs": [
    {
     "data": {
      "text/latex": [
       "\\begin{equation}|Y(f)|=2\\pi\\,f\\sqrt{\\frac{4\\pi^2C_0^2C_1^2R_1^2f^2+\\left(C_0+C_1-4\\pi^2C_0C_1L_1f^2 \\right)^2}{\\left(1-4\\pi^2L_1C_1f^2 \\right)^2+4\\pi^2R_1^2C_1^2f^2}}\\end{equation}"
      ],
      "text/plain": [
       "<IPython.core.display.Latex object>"
      ]
     },
     "execution_count": 20,
     "metadata": {},
     "output_type": "execute_result"
    }
   ],
   "source": [
    "Latex(r\"\"\"\\begin{equation}|Y(f)|=2\\pi\\,f\\sqrt{\\frac{4\\pi^2C_0^2C_1^2R_1^2f^2+\\left(C_0+C_1-4\\pi^2C_0C_1L_1f^2 \\right)^2}{\\left(1-4\\pi^2L_1C_1f^2 \\right)^2+4\\pi^2R_1^2C_1^2f^2}}\\end{equation}\"\"\")"
   ]
  },
  {
   "cell_type": "markdown",
   "metadata": {},
   "source": [
    "More later..."
   ]
  }
 ],
 "metadata": {
  "kernelspec": {
   "display_name": "Python 2",
   "language": "python",
   "name": "python2"
  },
  "language_info": {
   "codemirror_mode": {
    "name": "ipython",
    "version": 2
   },
   "file_extension": ".py",
   "mimetype": "text/x-python",
   "name": "python",
   "nbconvert_exporter": "python",
   "pygments_lexer": "ipython2",
   "version": "2.7.9"
  }
 },
 "nbformat": 4,
 "nbformat_minor": 0
}
